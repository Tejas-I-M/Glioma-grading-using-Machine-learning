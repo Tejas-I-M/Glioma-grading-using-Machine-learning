{
 "cells": [
  {
   "cell_type": "code",
   "execution_count": 22,
   "id": "acf1fb22",
   "metadata": {},
   "outputs": [],
   "source": [
    "# %% [markdown]\n",
    "# # Glioma Grade Prediction Project\n",
    "# ## Moderate Level Analysis with TCGA Data\n",
    "\n",
    "# %% [code]\n",
    "# Cell 1: Setup and Imports\n",
    "import pandas as pd\n",
    "import numpy as np\n",
    "import matplotlib.pyplot as plt\n",
    "import seaborn as sns\n",
    "from sklearn.model_selection import train_test_split\n",
    "from sklearn.ensemble import RandomForestClassifier\n",
    "from sklearn.metrics import classification_report, confusion_matrix, roc_auc_score\n",
    "import joblib\n",
    "\n",
    "# Visualization settings\n",
    "%matplotlib inline\n",
    "sns.set_palette(\"viridis\")\n",
    "pd.set_option('display.max_columns', 50)\n",
    "\n"
   ]
  },
  {
   "cell_type": "code",
   "execution_count": 23,
   "id": "7d84416a",
   "metadata": {},
   "outputs": [
    {
     "name": "stdout",
     "output_type": "stream",
     "text": [
      "Dataset shape: (862, 32)\n",
      "\n",
      "First 5 rows:\n"
     ]
    },
    {
     "data": {
      "application/vnd.microsoft.datawrangler.viewer.v0+json": {
       "columns": [
        {
         "name": "index",
         "rawType": "int64",
         "type": "integer"
        },
        {
         "name": "Grade",
         "rawType": "object",
         "type": "string"
        },
        {
         "name": "Project",
         "rawType": "object",
         "type": "string"
        },
        {
         "name": "Case_ID",
         "rawType": "object",
         "type": "string"
        },
        {
         "name": "Gender",
         "rawType": "float64",
         "type": "float"
        },
        {
         "name": "Age_at_diagnosis",
         "rawType": "object",
         "type": "string"
        },
        {
         "name": "Primary_Diagnosis",
         "rawType": "object",
         "type": "string"
        },
        {
         "name": "IDH1",
         "rawType": "int64",
         "type": "integer"
        },
        {
         "name": "TP53",
         "rawType": "int64",
         "type": "integer"
        },
        {
         "name": "ATRX",
         "rawType": "int64",
         "type": "integer"
        },
        {
         "name": "PTEN",
         "rawType": "int64",
         "type": "integer"
        },
        {
         "name": "EGFR",
         "rawType": "int64",
         "type": "integer"
        },
        {
         "name": "CIC",
         "rawType": "int64",
         "type": "integer"
        },
        {
         "name": "MUC16",
         "rawType": "int64",
         "type": "integer"
        },
        {
         "name": "PIK3CA",
         "rawType": "int64",
         "type": "integer"
        },
        {
         "name": "NF1",
         "rawType": "int64",
         "type": "integer"
        },
        {
         "name": "PIK3R1",
         "rawType": "int64",
         "type": "integer"
        },
        {
         "name": "FUBP1",
         "rawType": "int64",
         "type": "integer"
        },
        {
         "name": "RB1",
         "rawType": "int64",
         "type": "integer"
        },
        {
         "name": "NOTCH1",
         "rawType": "int64",
         "type": "integer"
        },
        {
         "name": "BCOR",
         "rawType": "int64",
         "type": "integer"
        },
        {
         "name": "CSMD3",
         "rawType": "int64",
         "type": "integer"
        },
        {
         "name": "SMARCA4",
         "rawType": "int64",
         "type": "integer"
        },
        {
         "name": "GRIN2A",
         "rawType": "int64",
         "type": "integer"
        },
        {
         "name": "IDH2",
         "rawType": "int64",
         "type": "integer"
        },
        {
         "name": "FAT4",
         "rawType": "int64",
         "type": "integer"
        },
        {
         "name": "PDGFRA",
         "rawType": "int64",
         "type": "integer"
        },
        {
         "name": "Age",
         "rawType": "float64",
         "type": "float"
        },
        {
         "name": "Race_american indian or alaska native",
         "rawType": "bool",
         "type": "boolean"
        },
        {
         "name": "Race_asian",
         "rawType": "bool",
         "type": "boolean"
        },
        {
         "name": "Race_black or african american",
         "rawType": "bool",
         "type": "boolean"
        },
        {
         "name": "Race_not reported",
         "rawType": "bool",
         "type": "boolean"
        },
        {
         "name": "Race_white",
         "rawType": "bool",
         "type": "boolean"
        }
       ],
       "ref": "ca8e2e0b-b981-4256-9e7d-433d70c19036",
       "rows": [
        [
         "0",
         "LGG",
         "TCGA-LGG",
         "TCGA-DU-8164",
         "1.0",
         "51 years 108 days",
         "Oligodendroglioma, NOS",
         "1",
         "0",
         "0",
         "0",
         "0",
         "0",
         "0",
         "1",
         "0",
         "0",
         "1",
         "0",
         "0",
         "0",
         "0",
         "0",
         "0",
         "0",
         "0",
         "0",
         null,
         "False",
         "False",
         "False",
         "False",
         "True"
        ],
        [
         "1",
         "LGG",
         "TCGA-LGG",
         "TCGA-QH-A6CY",
         "1.0",
         "38 years 261 days",
         "Mixed glioma",
         "1",
         "0",
         "0",
         "0",
         "0",
         "1",
         "0",
         "0",
         "0",
         "0",
         "0",
         "0",
         "0",
         "0",
         "0",
         "0",
         "0",
         "0",
         "0",
         "0",
         null,
         "False",
         "False",
         "False",
         "False",
         "True"
        ],
        [
         "2",
         "LGG",
         "TCGA-LGG",
         "TCGA-HW-A5KM",
         "1.0",
         "35 years 62 days",
         "Astrocytoma, NOS",
         "1",
         "1",
         "1",
         "0",
         "0",
         "0",
         "0",
         "0",
         "0",
         "0",
         "0",
         "0",
         "0",
         "0",
         "0",
         "0",
         "0",
         "0",
         "0",
         "0",
         null,
         "False",
         "False",
         "False",
         "False",
         "True"
        ],
        [
         "3",
         "LGG",
         "TCGA-LGG",
         "TCGA-E1-A7YE",
         "0.0",
         "32 years 283 days",
         "Astrocytoma, anaplastic",
         "1",
         "1",
         "1",
         "0",
         "0",
         "0",
         "1",
         "0",
         "0",
         "1",
         "0",
         "0",
         "0",
         "0",
         "0",
         "0",
         "0",
         "0",
         "1",
         "0",
         null,
         "False",
         "False",
         "False",
         "False",
         "True"
        ],
        [
         "4",
         "LGG",
         "TCGA-LGG",
         "TCGA-S9-A6WG",
         "1.0",
         "31 years 187 days",
         "Astrocytoma, anaplastic",
         "1",
         "1",
         "1",
         "0",
         "0",
         "0",
         "0",
         "0",
         "0",
         "0",
         "0",
         "0",
         "0",
         "0",
         "0",
         "0",
         "0",
         "0",
         "0",
         "0",
         null,
         "False",
         "False",
         "False",
         "False",
         "True"
        ]
       ],
       "shape": {
        "columns": 32,
        "rows": 5
       }
      },
      "text/html": [
       "<div>\n",
       "<style scoped>\n",
       "    .dataframe tbody tr th:only-of-type {\n",
       "        vertical-align: middle;\n",
       "    }\n",
       "\n",
       "    .dataframe tbody tr th {\n",
       "        vertical-align: top;\n",
       "    }\n",
       "\n",
       "    .dataframe thead th {\n",
       "        text-align: right;\n",
       "    }\n",
       "</style>\n",
       "<table border=\"1\" class=\"dataframe\">\n",
       "  <thead>\n",
       "    <tr style=\"text-align: right;\">\n",
       "      <th></th>\n",
       "      <th>Grade</th>\n",
       "      <th>Project</th>\n",
       "      <th>Case_ID</th>\n",
       "      <th>Gender</th>\n",
       "      <th>Age_at_diagnosis</th>\n",
       "      <th>Primary_Diagnosis</th>\n",
       "      <th>IDH1</th>\n",
       "      <th>TP53</th>\n",
       "      <th>ATRX</th>\n",
       "      <th>PTEN</th>\n",
       "      <th>EGFR</th>\n",
       "      <th>CIC</th>\n",
       "      <th>MUC16</th>\n",
       "      <th>PIK3CA</th>\n",
       "      <th>NF1</th>\n",
       "      <th>PIK3R1</th>\n",
       "      <th>FUBP1</th>\n",
       "      <th>RB1</th>\n",
       "      <th>NOTCH1</th>\n",
       "      <th>BCOR</th>\n",
       "      <th>CSMD3</th>\n",
       "      <th>SMARCA4</th>\n",
       "      <th>GRIN2A</th>\n",
       "      <th>IDH2</th>\n",
       "      <th>FAT4</th>\n",
       "      <th>PDGFRA</th>\n",
       "      <th>Age</th>\n",
       "      <th>Race_american indian or alaska native</th>\n",
       "      <th>Race_asian</th>\n",
       "      <th>Race_black or african american</th>\n",
       "      <th>Race_not reported</th>\n",
       "      <th>Race_white</th>\n",
       "    </tr>\n",
       "  </thead>\n",
       "  <tbody>\n",
       "    <tr>\n",
       "      <th>0</th>\n",
       "      <td>LGG</td>\n",
       "      <td>TCGA-LGG</td>\n",
       "      <td>TCGA-DU-8164</td>\n",
       "      <td>1.0</td>\n",
       "      <td>51 years 108 days</td>\n",
       "      <td>Oligodendroglioma, NOS</td>\n",
       "      <td>1</td>\n",
       "      <td>0</td>\n",
       "      <td>0</td>\n",
       "      <td>0</td>\n",
       "      <td>0</td>\n",
       "      <td>0</td>\n",
       "      <td>0</td>\n",
       "      <td>1</td>\n",
       "      <td>0</td>\n",
       "      <td>0</td>\n",
       "      <td>1</td>\n",
       "      <td>0</td>\n",
       "      <td>0</td>\n",
       "      <td>0</td>\n",
       "      <td>0</td>\n",
       "      <td>0</td>\n",
       "      <td>0</td>\n",
       "      <td>0</td>\n",
       "      <td>0</td>\n",
       "      <td>0</td>\n",
       "      <td>NaN</td>\n",
       "      <td>False</td>\n",
       "      <td>False</td>\n",
       "      <td>False</td>\n",
       "      <td>False</td>\n",
       "      <td>True</td>\n",
       "    </tr>\n",
       "    <tr>\n",
       "      <th>1</th>\n",
       "      <td>LGG</td>\n",
       "      <td>TCGA-LGG</td>\n",
       "      <td>TCGA-QH-A6CY</td>\n",
       "      <td>1.0</td>\n",
       "      <td>38 years 261 days</td>\n",
       "      <td>Mixed glioma</td>\n",
       "      <td>1</td>\n",
       "      <td>0</td>\n",
       "      <td>0</td>\n",
       "      <td>0</td>\n",
       "      <td>0</td>\n",
       "      <td>1</td>\n",
       "      <td>0</td>\n",
       "      <td>0</td>\n",
       "      <td>0</td>\n",
       "      <td>0</td>\n",
       "      <td>0</td>\n",
       "      <td>0</td>\n",
       "      <td>0</td>\n",
       "      <td>0</td>\n",
       "      <td>0</td>\n",
       "      <td>0</td>\n",
       "      <td>0</td>\n",
       "      <td>0</td>\n",
       "      <td>0</td>\n",
       "      <td>0</td>\n",
       "      <td>NaN</td>\n",
       "      <td>False</td>\n",
       "      <td>False</td>\n",
       "      <td>False</td>\n",
       "      <td>False</td>\n",
       "      <td>True</td>\n",
       "    </tr>\n",
       "    <tr>\n",
       "      <th>2</th>\n",
       "      <td>LGG</td>\n",
       "      <td>TCGA-LGG</td>\n",
       "      <td>TCGA-HW-A5KM</td>\n",
       "      <td>1.0</td>\n",
       "      <td>35 years 62 days</td>\n",
       "      <td>Astrocytoma, NOS</td>\n",
       "      <td>1</td>\n",
       "      <td>1</td>\n",
       "      <td>1</td>\n",
       "      <td>0</td>\n",
       "      <td>0</td>\n",
       "      <td>0</td>\n",
       "      <td>0</td>\n",
       "      <td>0</td>\n",
       "      <td>0</td>\n",
       "      <td>0</td>\n",
       "      <td>0</td>\n",
       "      <td>0</td>\n",
       "      <td>0</td>\n",
       "      <td>0</td>\n",
       "      <td>0</td>\n",
       "      <td>0</td>\n",
       "      <td>0</td>\n",
       "      <td>0</td>\n",
       "      <td>0</td>\n",
       "      <td>0</td>\n",
       "      <td>NaN</td>\n",
       "      <td>False</td>\n",
       "      <td>False</td>\n",
       "      <td>False</td>\n",
       "      <td>False</td>\n",
       "      <td>True</td>\n",
       "    </tr>\n",
       "    <tr>\n",
       "      <th>3</th>\n",
       "      <td>LGG</td>\n",
       "      <td>TCGA-LGG</td>\n",
       "      <td>TCGA-E1-A7YE</td>\n",
       "      <td>0.0</td>\n",
       "      <td>32 years 283 days</td>\n",
       "      <td>Astrocytoma, anaplastic</td>\n",
       "      <td>1</td>\n",
       "      <td>1</td>\n",
       "      <td>1</td>\n",
       "      <td>0</td>\n",
       "      <td>0</td>\n",
       "      <td>0</td>\n",
       "      <td>1</td>\n",
       "      <td>0</td>\n",
       "      <td>0</td>\n",
       "      <td>1</td>\n",
       "      <td>0</td>\n",
       "      <td>0</td>\n",
       "      <td>0</td>\n",
       "      <td>0</td>\n",
       "      <td>0</td>\n",
       "      <td>0</td>\n",
       "      <td>0</td>\n",
       "      <td>0</td>\n",
       "      <td>1</td>\n",
       "      <td>0</td>\n",
       "      <td>NaN</td>\n",
       "      <td>False</td>\n",
       "      <td>False</td>\n",
       "      <td>False</td>\n",
       "      <td>False</td>\n",
       "      <td>True</td>\n",
       "    </tr>\n",
       "    <tr>\n",
       "      <th>4</th>\n",
       "      <td>LGG</td>\n",
       "      <td>TCGA-LGG</td>\n",
       "      <td>TCGA-S9-A6WG</td>\n",
       "      <td>1.0</td>\n",
       "      <td>31 years 187 days</td>\n",
       "      <td>Astrocytoma, anaplastic</td>\n",
       "      <td>1</td>\n",
       "      <td>1</td>\n",
       "      <td>1</td>\n",
       "      <td>0</td>\n",
       "      <td>0</td>\n",
       "      <td>0</td>\n",
       "      <td>0</td>\n",
       "      <td>0</td>\n",
       "      <td>0</td>\n",
       "      <td>0</td>\n",
       "      <td>0</td>\n",
       "      <td>0</td>\n",
       "      <td>0</td>\n",
       "      <td>0</td>\n",
       "      <td>0</td>\n",
       "      <td>0</td>\n",
       "      <td>0</td>\n",
       "      <td>0</td>\n",
       "      <td>0</td>\n",
       "      <td>0</td>\n",
       "      <td>NaN</td>\n",
       "      <td>False</td>\n",
       "      <td>False</td>\n",
       "      <td>False</td>\n",
       "      <td>False</td>\n",
       "      <td>True</td>\n",
       "    </tr>\n",
       "  </tbody>\n",
       "</table>\n",
       "</div>"
      ],
      "text/plain": [
       "  Grade   Project       Case_ID  Gender   Age_at_diagnosis  \\\n",
       "0   LGG  TCGA-LGG  TCGA-DU-8164     1.0  51 years 108 days   \n",
       "1   LGG  TCGA-LGG  TCGA-QH-A6CY     1.0  38 years 261 days   \n",
       "2   LGG  TCGA-LGG  TCGA-HW-A5KM     1.0   35 years 62 days   \n",
       "3   LGG  TCGA-LGG  TCGA-E1-A7YE     0.0  32 years 283 days   \n",
       "4   LGG  TCGA-LGG  TCGA-S9-A6WG     1.0  31 years 187 days   \n",
       "\n",
       "         Primary_Diagnosis  IDH1  TP53  ATRX  PTEN  EGFR  CIC  MUC16  PIK3CA  \\\n",
       "0   Oligodendroglioma, NOS     1     0     0     0     0    0      0       1   \n",
       "1             Mixed glioma     1     0     0     0     0    1      0       0   \n",
       "2         Astrocytoma, NOS     1     1     1     0     0    0      0       0   \n",
       "3  Astrocytoma, anaplastic     1     1     1     0     0    0      1       0   \n",
       "4  Astrocytoma, anaplastic     1     1     1     0     0    0      0       0   \n",
       "\n",
       "   NF1  PIK3R1  FUBP1  RB1  NOTCH1  BCOR  CSMD3  SMARCA4  GRIN2A  IDH2  FAT4  \\\n",
       "0    0       0      1    0       0     0      0        0       0     0     0   \n",
       "1    0       0      0    0       0     0      0        0       0     0     0   \n",
       "2    0       0      0    0       0     0      0        0       0     0     0   \n",
       "3    0       1      0    0       0     0      0        0       0     0     1   \n",
       "4    0       0      0    0       0     0      0        0       0     0     0   \n",
       "\n",
       "   PDGFRA  Age  Race_american indian or alaska native  Race_asian  \\\n",
       "0       0  NaN                                  False       False   \n",
       "1       0  NaN                                  False       False   \n",
       "2       0  NaN                                  False       False   \n",
       "3       0  NaN                                  False       False   \n",
       "4       0  NaN                                  False       False   \n",
       "\n",
       "   Race_black or african american  Race_not reported  Race_white  \n",
       "0                           False              False        True  \n",
       "1                           False              False        True  \n",
       "2                           False              False        True  \n",
       "3                           False              False        True  \n",
       "4                           False              False        True  "
      ]
     },
     "metadata": {},
     "output_type": "display_data"
    },
    {
     "name": "stdout",
     "output_type": "stream",
     "text": [
      "\n",
      "Data types:\n",
      "Grade                                     object\n",
      "Project                                   object\n",
      "Case_ID                                   object\n",
      "Gender                                   float64\n",
      "Age_at_diagnosis                          object\n",
      "Primary_Diagnosis                         object\n",
      "IDH1                                       int64\n",
      "TP53                                       int64\n",
      "ATRX                                       int64\n",
      "PTEN                                       int64\n",
      "EGFR                                       int64\n",
      "CIC                                        int64\n",
      "MUC16                                      int64\n",
      "PIK3CA                                     int64\n",
      "NF1                                        int64\n",
      "PIK3R1                                     int64\n",
      "FUBP1                                      int64\n",
      "RB1                                        int64\n",
      "NOTCH1                                     int64\n",
      "BCOR                                       int64\n",
      "CSMD3                                      int64\n",
      "SMARCA4                                    int64\n",
      "GRIN2A                                     int64\n",
      "IDH2                                       int64\n",
      "FAT4                                       int64\n",
      "PDGFRA                                     int64\n",
      "Age                                      float64\n",
      "Race_american indian or alaska native       bool\n",
      "Race_asian                                  bool\n",
      "Race_black or african american              bool\n",
      "Race_not reported                           bool\n",
      "Race_white                                  bool\n",
      "dtype: object\n",
      "\n",
      "Missing values per column:\n",
      "Grade                                      0\n",
      "Project                                    0\n",
      "Case_ID                                    0\n",
      "Gender                                     4\n",
      "Age_at_diagnosis                           0\n",
      "Primary_Diagnosis                          0\n",
      "IDH1                                       0\n",
      "TP53                                       0\n",
      "ATRX                                       0\n",
      "PTEN                                       0\n",
      "EGFR                                       0\n",
      "CIC                                        0\n",
      "MUC16                                      0\n",
      "PIK3CA                                     0\n",
      "NF1                                        0\n",
      "PIK3R1                                     0\n",
      "FUBP1                                      0\n",
      "RB1                                        0\n",
      "NOTCH1                                     0\n",
      "BCOR                                       0\n",
      "CSMD3                                      0\n",
      "SMARCA4                                    0\n",
      "GRIN2A                                     0\n",
      "IDH2                                       0\n",
      "FAT4                                       0\n",
      "PDGFRA                                     0\n",
      "Age                                      862\n",
      "Race_american indian or alaska native      0\n",
      "Race_asian                                 0\n",
      "Race_black or african american             0\n",
      "Race_not reported                          0\n",
      "Race_white                                 0\n",
      "dtype: int64\n"
     ]
    }
   ],
   "source": [
    "# %% [code]\n",
    "# Cell 2: Data Loading and Inspection\n",
    "data_path = r\"C:\\Users\\Tejas\\OneDrive\\Desktop\\glioma_grading\\data\\glicomaxl\\cleaned_data.csv\"  # Update path as needed\n",
    "df = pd.read_csv(data_path)\n",
    "\n",
    "print(\"Dataset shape:\", df.shape)\n",
    "print(\"\\nFirst 5 rows:\")\n",
    "display(df.head())\n",
    "\n",
    "print(\"\\nData types:\")\n",
    "print(df.dtypes)\n",
    "\n",
    "print(\"\\nMissing values per column:\")\n",
    "print(df.isna().sum())\n",
    "\n"
   ]
  },
  {
   "cell_type": "code",
   "execution_count": 24,
   "id": "3d79b9b1",
   "metadata": {},
   "outputs": [],
   "source": [
    "# %% [code]\n",
    "# Cell 3: Data Cleaning\n",
    "# Convert Age_at_diagnosis to numeric (if not already)\n",
    "df['Age'] = df['Age_at_diagnosis'].str.extract(r'(\\d+)').astype(float)\n",
    "\n",
    "# Handle mutations (1/0 encoding)\n",
    "mutation_cols = [col for col in df.columns if col not in \n",
    "                ['Grade', 'Project', 'Case_ID', 'Gender', 'Age_at_diagnosis',\n",
    "                 'Primary_Diagnosis', 'Race', 'Age']]\n",
    "\n",
    "for col in mutation_cols:\n",
    "    df[col] = df[col].map({'MUTATED': 1, 'NOT_MUTATED': 0})\n",
    "\n",
    "# Drop unnecessary columns\n",
    "df = df.drop(['Case_ID', 'Project', 'Age_at_diagnosis'], axis=1)\n",
    "\n"
   ]
  },
  {
   "cell_type": "code",
   "execution_count": 40,
   "id": "47273e5f",
   "metadata": {},
   "outputs": [
    {
     "data": {
      "image/png": "[encoded data removed]",
      "text/plain": [
       "<Figure size 800x500 with 1 Axes>"
      ]
     },
     "metadata": {},
     "output_type": "display_data"
    },
    {
     "data": {
      "image/png": "[encoded data removed]",
      "text/plain": [
       "<Figure size 1000x600 with 1 Axes>"
      ]
     },
     "metadata": {},
     "output_type": "display_data"
    },
    {
     "name": "stderr",
     "output_type": "stream",
     "text": [
      "C:\\Users\\Tejas\\AppData\\Local\\Temp\\ipykernel_3704\\1841219308.py:59: FutureWarning: \n",
      "\n",
      "Passing `palette` without assigning `hue` is deprecated and will be removed in v0.14.0. Assign the `x` variable to `hue` and set `legend=False` for the same effect.\n",
      "\n",
      "  sns.barplot(x=top15.index, y=top15.values, palette='viridis')\n"
     ]
    },
    {
     "data": {
      "image/png": "[encoded data removed]",
      "text/plain": [
       "<Figure size 1200x600 with 1 Axes>"
      ]
     },
     "metadata": {},
     "output_type": "display_data"
    }
   ],
   "source": [
    "# Cell 4: Exploratory Data Analysis (EDA) - corrected\n",
    "\n",
    "# Identify mutation columns more robustly: these should be all columns originally representing gene mutations,\n",
    "# excluding known other columns like 'Grade', 'Gender', 'Age', 'target' or categorical columns encoded later.\n",
    "\n",
    "# Since you dropped some columns, let's identify mutation columns as those with type int64 or float64 and not features like Age.\n",
    "exclude_cols = ['Grade', 'target', 'Age', 'Gender'] + [col for col in df.columns if col.startswith('Primary_Diagnosis')] + \\\n",
    "               [col for col in df.columns if col.startswith('Race')]\n",
    "\n",
    "mutation_cols = [col for col in df.columns if col not in exclude_cols]\n",
    "\n",
    "# 1. Grade distribution plot (since you dropped 'Grade', let's recreate from 'target')\n",
    "plt.figure(figsize=(8,5))\n",
    "ax = sns.countplot(x=df['target'].map({0: 'LGG', 1: 'GBM'}))\n",
    "plt.title(\"Distribution of Glioma Grades\")\n",
    "for p in ax.patches:\n",
    "    ax.annotate(f'{p.get_height()}', (p.get_x()+0.35, p.get_height()+5))\n",
    "plt.xlabel(\"Grade\")\n",
    "plt.ylabel(\"Count\")\n",
    "plt.show()\n",
    "\n",
    "# 2. Age distribution by grade\n",
    "plt.figure(figsize=(10,6))\n",
    "sns.boxplot(x=df['target'].map({0:'LGG', 1:'GBM'}), y=df['Age'], showfliers=False)\n",
    "sns.stripplot(x=df['target'].map({0:'LGG', 1:'GBM'}), y=df['Age'], color='black', alpha=0.3)\n",
    "plt.title(\"Age Distribution by Grade\")\n",
    "plt.xlabel(\"Grade\")\n",
    "plt.ylabel(\"Age\")\n",
    "plt.show()\n",
    "\n",
    "# 3. Top mutated genes\n",
    "# Ensure mutation columns have numeric data (they should be 0/1)\n",
    "# If any mutation column has non-numeric or NaN, fill or convert them\n",
    "import pandas as pd\n",
    "import matplotlib.pyplot as plt\n",
    "import seaborn as sns\n",
    "\n",
    "# Load CSV (replace 'cleaned_data.csv' with your actual path if needed)\n",
    "df = pd.read_csv(r'C:\\Users\\Tejas\\OneDrive\\Desktop\\glioma_grading\\data\\glicomaxl\\cleaned_data.csv')\n",
    "\n",
    "# List of gene mutation columns (extracting from your data structure)\n",
    "# Assumes all columns starting from 'IDH1' up to 'PDGFRA' are mutation binary columns\n",
    "# If not, specify the gene list manually\n",
    "genes = ['IDH1', 'TP53', 'ATRX', 'PTEN', 'EGFR', 'CIC', 'MUC16', \n",
    "         'PIK3CA', 'NF1', 'PIK3R1', 'FUBP1', 'RB1', 'NOTCH1',\n",
    "         'BCOR', 'CSMD3', 'SMARCA4', 'GRIN2A', 'IDH2', 'FAT4', 'PDGFRA']\n",
    "\n",
    "# Filter only mutation columns that exist in dataframe\n",
    "mutation_cols = [g for g in genes if g in df.columns]\n",
    "\n",
    "# Calculate mutation counts per gene\n",
    "mutation_counts = df[mutation_cols].sum().sort_values(ascending=False)\n",
    "\n",
    "# Select top 15 mutated genes\n",
    "top15 = mutation_counts.head(15)\n",
    "\n",
    "# Plotting\n",
    "plt.figure(figsize=(12,6))\n",
    "sns.barplot(x=top15.index, y=top15.values, palette='viridis')\n",
    "\n",
    "plt.title('Top 15 Mutated Genes')\n",
    "plt.ylabel('Number of Mutations')\n",
    "plt.xlabel('Gene')\n",
    "plt.xticks(rotation=45)\n",
    "plt.tight_layout()\n",
    "plt.show()\n",
    "\n"
   ]
  },
  {
   "cell_type": "code",
   "execution_count": 27,
   "id": "d87f2c69",
   "metadata": {},
   "outputs": [
    {
     "name": "stdout",
     "output_type": "stream",
     "text": [
      "Class balance:\n",
      " target\n",
      "0    0.578886\n",
      "1    0.421114\n",
      "Name: proportion, dtype: float64\n"
     ]
    }
   ],
   "source": [
    "# %% [code]\n",
    "# Cell 5: Feature Engineering\n",
    "# Create binary target (1 for GBM, 0 for LGG)\n",
    "df['target'] = (df['Grade'] == 'GBM').astype(int)\n",
    "\n",
    "# One-hot encode categorical variables\n",
    "df = pd.get_dummies(df, columns=['Primary_Diagnosis',], drop_first=True)\n",
    "\n",
    "# Drop original Grade column\n",
    "df = df.drop('Grade', axis=1)\n",
    "\n",
    "# Check class balance\n",
    "print(\"Class balance:\\n\", df['target'].value_counts(normalize=True))\n",
    "\n"
   ]
  },
  {
   "cell_type": "code",
   "execution_count": 28,
   "id": "2711e0b9",
   "metadata": {},
   "outputs": [
    {
     "name": "stdout",
     "output_type": "stream",
     "text": [
      "Training set: (689, 33)\n",
      "Test set: (173, 33)\n"
     ]
    }
   ],
   "source": [
    "# %% [code]\n",
    "# Cell 6: Train-Test Split\n",
    "X = df.drop('target', axis=1)\n",
    "y = df['target']\n",
    "\n",
    "X_train, X_test, y_train, y_test = train_test_split(\n",
    "    X, y, test_size=0.2, random_state=42, stratify=y)\n",
    "\n",
    "print(f\"Training set: {X_train.shape}\")\n",
    "print(f\"Test set: {X_test.shape}\")\n",
    "\n"
   ]
  },
  {
   "cell_type": "code",
   "execution_count": 31,
   "id": "a15e8f47",
   "metadata": {},
   "outputs": [
    {
     "name": "stdout",
     "output_type": "stream",
     "text": [
      "Model saved successfully\n"
     ]
    }
   ],
   "source": [
    "# %% [code]\n",
    "# Cell 7: Model Training (Random Forest)\n",
    "rf = RandomForestClassifier(\n",
    "    n_estimators=200,\n",
    "    max_depth=8,\n",
    "    random_state=42,\n",
    "    class_weight='balanced'\n",
    ")\n",
    "\n",
    "rf.fit(X_train, y_train)\n",
    "\n",
    "# Save model\n",
    "joblib.dump(rf, r'C:\\Users\\Tejas\\OneDrive\\Desktop\\glioma_grading\\data\\glicomaxl\\rf_model.pkl')\n",
    "print(\"Model saved successfully\")\n",
    "\n"
   ]
  },
  {
   "cell_type": "code",
   "execution_count": 32,
   "id": "d2f2e05f",
   "metadata": {},
   "outputs": [
    {
     "name": "stdout",
     "output_type": "stream",
     "text": [
      "Classification Report:\n",
      "              precision    recall  f1-score   support\n",
      "\n",
      "           0       1.00      1.00      1.00       100\n",
      "           1       1.00      1.00      1.00        73\n",
      "\n",
      "    accuracy                           1.00       173\n",
      "   macro avg       1.00      1.00      1.00       173\n",
      "weighted avg       1.00      1.00      1.00       173\n",
      "\n",
      "\n",
      "Confusion Matrix:\n",
      "[[100   0]\n",
      " [  0  73]]\n",
      "\n",
      "ROC AUC Score: 1.0\n"
     ]
    }
   ],
   "source": [
    "# Cell 8: Model Evaluation\n",
    "y_pred = rf.predict(X_test)\n",
    "y_proba = rf.predict_proba(X_test)[:,1]\n",
    "\n",
    "print(\"Classification Report:\")\n",
    "print(classification_report(y_test, y_pred))\n",
    "\n",
    "print(\"\\nConfusion Matrix:\")\n",
    "print(confusion_matrix(y_test, y_pred))\n",
    "\n",
    "print(\"\\nROC AUC Score:\", roc_auc_score(y_test, y_proba))\n",
    "\n",
    "# Feature Importance\n",
    "fi = pd.DataFrame({\n",
    "    'feature': X.columns,\n",
    "    'importance': rf.feature_importances_\n",
    "}).sort_values('importance', ascending=False)"
   ]
  },
  {
   "cell_type": "code",
   "execution_count": 33,
   "id": "9ea2276a",
   "metadata": {},
   "outputs": [
    {
     "name": "stdout",
     "output_type": "stream",
     "text": [
      "Sample features:\n"
     ]
    },
    {
     "data": {
      "application/vnd.microsoft.datawrangler.viewer.v0+json": {
       "columns": [
        {
         "name": "index",
         "rawType": "int64",
         "type": "integer"
        },
        {
         "name": "Gender",
         "rawType": "float64",
         "type": "float"
        },
        {
         "name": "IDH1",
         "rawType": "float64",
         "type": "float"
        },
        {
         "name": "TP53",
         "rawType": "float64",
         "type": "float"
        },
        {
         "name": "ATRX",
         "rawType": "float64",
         "type": "float"
        },
        {
         "name": "PTEN",
         "rawType": "float64",
         "type": "float"
        },
        {
         "name": "EGFR",
         "rawType": "float64",
         "type": "float"
        },
        {
         "name": "CIC",
         "rawType": "float64",
         "type": "float"
        },
        {
         "name": "MUC16",
         "rawType": "float64",
         "type": "float"
        },
        {
         "name": "PIK3CA",
         "rawType": "float64",
         "type": "float"
        },
        {
         "name": "NF1",
         "rawType": "float64",
         "type": "float"
        },
        {
         "name": "PIK3R1",
         "rawType": "float64",
         "type": "float"
        },
        {
         "name": "FUBP1",
         "rawType": "float64",
         "type": "float"
        },
        {
         "name": "RB1",
         "rawType": "float64",
         "type": "float"
        },
        {
         "name": "NOTCH1",
         "rawType": "float64",
         "type": "float"
        },
        {
         "name": "BCOR",
         "rawType": "float64",
         "type": "float"
        },
        {
         "name": "CSMD3",
         "rawType": "float64",
         "type": "float"
        },
        {
         "name": "SMARCA4",
         "rawType": "float64",
         "type": "float"
        },
        {
         "name": "GRIN2A",
         "rawType": "float64",
         "type": "float"
        },
        {
         "name": "IDH2",
         "rawType": "float64",
         "type": "float"
        },
        {
         "name": "FAT4",
         "rawType": "float64",
         "type": "float"
        },
        {
         "name": "PDGFRA",
         "rawType": "float64",
         "type": "float"
        },
        {
         "name": "Age",
         "rawType": "float64",
         "type": "float"
        },
        {
         "name": "Race_american indian or alaska native",
         "rawType": "float64",
         "type": "float"
        },
        {
         "name": "Race_asian",
         "rawType": "float64",
         "type": "float"
        },
        {
         "name": "Race_black or african american",
         "rawType": "float64",
         "type": "float"
        },
        {
         "name": "Race_not reported",
         "rawType": "float64",
         "type": "float"
        },
        {
         "name": "Race_white",
         "rawType": "float64",
         "type": "float"
        },
        {
         "name": "Primary_Diagnosis_Astrocytoma, NOS",
         "rawType": "bool",
         "type": "boolean"
        },
        {
         "name": "Primary_Diagnosis_Astrocytoma, anaplastic",
         "rawType": "bool",
         "type": "boolean"
        },
        {
         "name": "Primary_Diagnosis_Glioblastoma",
         "rawType": "bool",
         "type": "boolean"
        },
        {
         "name": "Primary_Diagnosis_Mixed glioma",
         "rawType": "bool",
         "type": "boolean"
        },
        {
         "name": "Primary_Diagnosis_Oligodendroglioma, NOS",
         "rawType": "bool",
         "type": "boolean"
        },
        {
         "name": "Primary_Diagnosis_Oligodendroglioma, anaplastic",
         "rawType": "bool",
         "type": "boolean"
        }
       ],
       "ref": "06857ab3-1384-4b64-8a38-bed2c60d4e95",
       "rows": [
        [
         "166",
         "1.0",
         null,
         null,
         null,
         null,
         null,
         null,
         null,
         null,
         null,
         null,
         null,
         null,
         null,
         null,
         null,
         null,
         null,
         null,
         null,
         null,
         "60.0",
         null,
         null,
         null,
         null,
         null,
         "False",
         "False",
         "False",
         "False",
         "True",
         "False"
        ]
       ],
       "shape": {
        "columns": 33,
        "rows": 1
       }
      },
      "text/html": [
       "<div>\n",
       "<style scoped>\n",
       "    .dataframe tbody tr th:only-of-type {\n",
       "        vertical-align: middle;\n",
       "    }\n",
       "\n",
       "    .dataframe tbody tr th {\n",
       "        vertical-align: top;\n",
       "    }\n",
       "\n",
       "    .dataframe thead th {\n",
       "        text-align: right;\n",
       "    }\n",
       "</style>\n",
       "<table border=\"1\" class=\"dataframe\">\n",
       "  <thead>\n",
       "    <tr style=\"text-align: right;\">\n",
       "      <th></th>\n",
       "      <th>Gender</th>\n",
       "      <th>IDH1</th>\n",
       "      <th>TP53</th>\n",
       "      <th>ATRX</th>\n",
       "      <th>PTEN</th>\n",
       "      <th>EGFR</th>\n",
       "      <th>CIC</th>\n",
       "      <th>MUC16</th>\n",
       "      <th>PIK3CA</th>\n",
       "      <th>NF1</th>\n",
       "      <th>PIK3R1</th>\n",
       "      <th>FUBP1</th>\n",
       "      <th>RB1</th>\n",
       "      <th>NOTCH1</th>\n",
       "      <th>BCOR</th>\n",
       "      <th>CSMD3</th>\n",
       "      <th>SMARCA4</th>\n",
       "      <th>GRIN2A</th>\n",
       "      <th>IDH2</th>\n",
       "      <th>FAT4</th>\n",
       "      <th>PDGFRA</th>\n",
       "      <th>Age</th>\n",
       "      <th>Race_american indian or alaska native</th>\n",
       "      <th>Race_asian</th>\n",
       "      <th>Race_black or african american</th>\n",
       "      <th>Race_not reported</th>\n",
       "      <th>Race_white</th>\n",
       "      <th>Primary_Diagnosis_Astrocytoma, NOS</th>\n",
       "      <th>Primary_Diagnosis_Astrocytoma, anaplastic</th>\n",
       "      <th>Primary_Diagnosis_Glioblastoma</th>\n",
       "      <th>Primary_Diagnosis_Mixed glioma</th>\n",
       "      <th>Primary_Diagnosis_Oligodendroglioma, NOS</th>\n",
       "      <th>Primary_Diagnosis_Oligodendroglioma, anaplastic</th>\n",
       "    </tr>\n",
       "  </thead>\n",
       "  <tbody>\n",
       "    <tr>\n",
       "      <th>166</th>\n",
       "      <td>1.0</td>\n",
       "      <td>NaN</td>\n",
       "      <td>NaN</td>\n",
       "      <td>NaN</td>\n",
       "      <td>NaN</td>\n",
       "      <td>NaN</td>\n",
       "      <td>NaN</td>\n",
       "      <td>NaN</td>\n",
       "      <td>NaN</td>\n",
       "      <td>NaN</td>\n",
       "      <td>NaN</td>\n",
       "      <td>NaN</td>\n",
       "      <td>NaN</td>\n",
       "      <td>NaN</td>\n",
       "      <td>NaN</td>\n",
       "      <td>NaN</td>\n",
       "      <td>NaN</td>\n",
       "      <td>NaN</td>\n",
       "      <td>NaN</td>\n",
       "      <td>NaN</td>\n",
       "      <td>NaN</td>\n",
       "      <td>60.0</td>\n",
       "      <td>NaN</td>\n",
       "      <td>NaN</td>\n",
       "      <td>NaN</td>\n",
       "      <td>NaN</td>\n",
       "      <td>NaN</td>\n",
       "      <td>False</td>\n",
       "      <td>False</td>\n",
       "      <td>False</td>\n",
       "      <td>False</td>\n",
       "      <td>True</td>\n",
       "      <td>False</td>\n",
       "    </tr>\n",
       "  </tbody>\n",
       "</table>\n",
       "</div>"
      ],
      "text/plain": [
       "     Gender  IDH1  TP53  ATRX  PTEN  EGFR  CIC  MUC16  PIK3CA  NF1  PIK3R1  \\\n",
       "166     1.0   NaN   NaN   NaN   NaN   NaN  NaN    NaN     NaN  NaN     NaN   \n",
       "\n",
       "     FUBP1  RB1  NOTCH1  BCOR  CSMD3  SMARCA4  GRIN2A  IDH2  FAT4  PDGFRA  \\\n",
       "166    NaN  NaN     NaN   NaN    NaN      NaN     NaN   NaN   NaN     NaN   \n",
       "\n",
       "      Age  Race_american indian or alaska native  Race_asian  \\\n",
       "166  60.0                                    NaN         NaN   \n",
       "\n",
       "     Race_black or african american  Race_not reported  Race_white  \\\n",
       "166                             NaN                NaN         NaN   \n",
       "\n",
       "     Primary_Diagnosis_Astrocytoma, NOS  \\\n",
       "166                               False   \n",
       "\n",
       "     Primary_Diagnosis_Astrocytoma, anaplastic  \\\n",
       "166                                      False   \n",
       "\n",
       "     Primary_Diagnosis_Glioblastoma  Primary_Diagnosis_Mixed glioma  \\\n",
       "166                           False                           False   \n",
       "\n",
       "     Primary_Diagnosis_Oligodendroglioma, NOS  \\\n",
       "166                                      True   \n",
       "\n",
       "     Primary_Diagnosis_Oligodendroglioma, anaplastic  \n",
       "166                                            False  "
      ]
     },
     "metadata": {},
     "output_type": "display_data"
    },
    {
     "name": "stdout",
     "output_type": "stream",
     "text": [
      "\n",
      "Prediction: LGG\n",
      "Probability of GBM: 0.98%\n"
     ]
    }
   ],
   "source": [
    "sample = X_test.iloc[0:1]  # Take first test sample\n",
    "print(\"Sample features:\")\n",
    "display(sample)\n",
    "\n",
    "prediction = rf.predict(sample)[0]\n",
    "probability = rf.predict_proba(sample)[0][1]\n",
    "\n",
    "print(f\"\\nPrediction: {'GBM' if prediction == 1 else 'LGG'}\")\n",
    "print(f\"Probability of GBM: {probability:.2%}\")"
   ]
  },
  {
   "cell_type": "code",
   "execution_count": null,
   "id": "53d38e75",
   "metadata": {},
   "outputs": [],
   "source": []
  }
 ],
 "metadata": {
  "kernelspec": {
   "display_name": "Python 3",
   "language": "python",
   "name": "python3"
  },
  "language_info": {
   "codemirror_mode": {
    "name": "ipython",
    "version": 3
   },
   "file_extension": ".py",
   "mimetype": "text/x-python",
   "name": "python",
   "nbconvert_exporter": "python",
   "pygments_lexer": "ipython3",
   "version": "3.13.3"
  }
 },
 "nbformat": 4,
 "nbformat_minor": 5
}
